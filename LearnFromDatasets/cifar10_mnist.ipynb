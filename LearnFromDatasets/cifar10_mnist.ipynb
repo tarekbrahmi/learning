{
 "cells": [
  {
   "cell_type": "code",
   "execution_count": 1,
   "id": "9acce6a3",
   "metadata": {},
   "outputs": [
    {
     "name": "stderr",
     "output_type": "stream",
     "text": [
      "2022-06-22 16:53:24.784215: W tensorflow/stream_executor/platform/default/dso_loader.cc:64] Could not load dynamic library 'libcudart.so.11.0'; dlerror: libcudart.so.11.0: cannot open shared object file: No such file or directory\n",
      "2022-06-22 16:53:24.784283: I tensorflow/stream_executor/cuda/cudart_stub.cc:29] Ignore above cudart dlerror if you do not have a GPU set up on your machine.\n"
     ]
    },
    {
     "name": "stdout",
     "output_type": "stream",
     "text": [
      "WARNING:tensorflow:Please fix your imports. Module tensorflow.python.training.tracking.base has been moved to tensorflow.python.trackable.base. The old module will be deleted in version 2.11.\n",
      "WARNING:tensorflow:Please fix your imports. Module tensorflow.python.training.tracking.resource has been moved to tensorflow.python.trackable.resource. The old module will be deleted in version 2.11.\n",
      "WARNING:tensorflow:Please fix your imports. Module tensorflow.python.training.tracking.graph_view has been moved to tensorflow.python.checkpoint.graph_view. The old module will be deleted in version 2.11.\n"
     ]
    },
    {
     "name": "stderr",
     "output_type": "stream",
     "text": [
      "2022-06-22 16:53:26.782895: W tensorflow/stream_executor/platform/default/dso_loader.cc:64] Could not load dynamic library 'libnvinfer.so.7'; dlerror: libnvinfer.so.7: cannot open shared object file: No such file or directory\n",
      "2022-06-22 16:53:26.783116: W tensorflow/stream_executor/platform/default/dso_loader.cc:64] Could not load dynamic library 'libnvinfer_plugin.so.7'; dlerror: libnvinfer_plugin.so.7: cannot open shared object file: No such file or directory\n",
      "2022-06-22 16:53:26.783145: W tensorflow/compiler/tf2tensorrt/utils/py_utils.cc:38] TF-TRT Warning: Cannot dlopen some TensorRT libraries. If you would like to use Nvidia GPU with TensorRT, please make sure the missing libraries mentioned above are installed properly.\n"
     ]
    },
    {
     "name": "stdout",
     "output_type": "stream",
     "text": [
      "WARNING:tensorflow:Please fix your imports. Module tensorflow.python.training.saving.functional_saver has been moved to tensorflow.python.checkpoint.functional_saver. The old module will be deleted in version 2.11.\n",
      "WARNING:tensorflow:Please fix your imports. Module tensorflow.python.training.saving.checkpoint_options has been moved to tensorflow.python.checkpoint.checkpoint_options. The old module will be deleted in version 2.11.\n"
     ]
    }
   ],
   "source": [
    "import tensorflow as tf\n",
    "from tensorflow import keras\n",
    "import numpy as np\n",
    "import matplotlib.pylab as plt"
   ]
  },
  {
   "cell_type": "markdown",
   "id": "f0dd8ddd",
   "metadata": {},
   "source": [
    "# cifar10 MNIST"
   ]
  },
  {
   "cell_type": "code",
   "execution_count": 12,
   "id": "3d4a6434",
   "metadata": {},
   "outputs": [],
   "source": [
    "cifar10_mnist=keras.datasets.cifar10\n",
    "#spliting the dataset to train and test images\n",
    "(train_images,train_lables),(test_images,test_lables)=cifar10_mnist.load_data()"
   ]
  },
  {
   "cell_type": "markdown",
   "id": "20ce3d3c",
   "metadata": {},
   "source": [
    "# undrestanding more the data "
   ]
  },
  {
   "cell_type": "code",
   "execution_count": 13,
   "id": "5e0f2a0b",
   "metadata": {},
   "outputs": [
    {
     "data": {
      "text/plain": [
       "(50000, 32, 32, 3)"
      ]
     },
     "execution_count": 13,
     "metadata": {},
     "output_type": "execute_result"
    }
   ],
   "source": [
    "train_images.shape"
   ]
  },
  {
   "cell_type": "markdown",
   "id": "931110d6",
   "metadata": {},
   "source": [
    "# data preproccessing ... images preproccessing"
   ]
  },
  {
   "cell_type": "code",
   "execution_count": 14,
   "id": "a9a342b0",
   "metadata": {},
   "outputs": [],
   "source": [
    "train_images=train_images/255.0\n",
    "test_images=test_images/255.0"
   ]
  },
  {
   "cell_type": "code",
   "execution_count": 5,
   "id": "b118dec6",
   "metadata": {},
   "outputs": [],
   "source": [
    "classes=[\"airplane\",\"automobile\",\"bird\",\"cat\",\"deer\",\"dog\",\"frog\",\"horse\",\"ship\",\"truck\"]"
   ]
  },
  {
   "cell_type": "markdown",
   "id": "caf1d6dd",
   "metadata": {},
   "source": [
    "# show images"
   ]
  },
  {
   "cell_type": "code",
   "execution_count": 6,
   "id": "c94dffc3",
   "metadata": {},
   "outputs": [
    {
     "data": {
      "image/png": "[encoded data removed]",
      "text/plain": [
       "<Figure size 432x288 with 1 Axes>"
      ]
     },
     "metadata": {
      "needs_background": "light"
     },
     "output_type": "display_data"
    }
   ],
   "source": [
    "IMG_INDEX=1\n",
    "plt.imshow(train_images[IMG_INDEX],cmap=plt.cm.binary)\n",
    "plt.xlabel(classes[train_lables[IMG_INDEX][0]])\n",
    "plt.show()"
   ]
  },
  {
   "cell_type": "markdown",
   "id": "14f08e64",
   "metadata": {},
   "source": [
    "# building the model"
   ]
  },
  {
   "cell_type": "code",
   "execution_count": 7,
   "id": "3eed5c1d",
   "metadata": {},
   "outputs": [
    {
     "name": "stderr",
     "output_type": "stream",
     "text": [
      "2022-06-22 17:09:50.306817: E tensorflow/stream_executor/cuda/cuda_driver.cc:271] failed call to cuInit: CUDA_ERROR_NO_DEVICE: no CUDA-capable device is detected\n",
      "2022-06-22 17:09:50.309481: I tensorflow/stream_executor/cuda/cuda_diagnostics.cc:156] kernel driver does not appear to be running on this host (pc): /proc/driver/nvidia/version does not exist\n"
     ]
    }
   ],
   "source": [
    "model=keras.Sequential()\n",
    "model.add(keras.layers.Conv2D(32,(3,3),activation=\"relu\",input_shape=(32,32,3)))\n",
    "model.add(keras.layers.MaxPooling2D((2,2)))\n",
    "model.add(keras.layers.Conv2D(64,(3,3),activation=\"relu\"))\n",
    "model.add(keras.layers.MaxPooling2D((2,2)))\n",
    "model.add(keras.layers.Conv2D(64,(3,3),activation=\"relu\"))\n",
    "model.add(keras.layers.Flatten())\n",
    "model.add(keras.layers.Dense(64,activation=\"relu\"))\n",
    "model.add(keras.layers.Dense(10))"
   ]
  },
  {
   "cell_type": "code",
   "execution_count": 8,
   "id": "eaa60b28",
   "metadata": {},
   "outputs": [
    {
     "name": "stdout",
     "output_type": "stream",
     "text": [
      "Model: \"sequential\"\n",
      "_________________________________________________________________\n",
      " Layer (type)                Output Shape              Param #   \n",
      "=================================================================\n",
      " conv2d (Conv2D)             (None, 30, 30, 32)        896       \n",
      "                                                                 \n",
      " max_pooling2d (MaxPooling2D  (None, 15, 15, 32)       0         \n",
      " )                                                               \n",
      "                                                                 \n",
      " conv2d_1 (Conv2D)           (None, 13, 13, 64)        18496     \n",
      "                                                                 \n",
      " max_pooling2d_1 (MaxPooling  (None, 6, 6, 64)         0         \n",
      " 2D)                                                             \n",
      "                                                                 \n",
      " conv2d_2 (Conv2D)           (None, 4, 4, 64)          36928     \n",
      "                                                                 \n",
      " flatten (Flatten)           (None, 1024)              0         \n",
      "                                                                 \n",
      " dense (Dense)               (None, 64)                65600     \n",
      "                                                                 \n",
      " dense_1 (Dense)             (None, 10)                650       \n",
      "                                                                 \n",
      "=================================================================\n",
      "Total params: 122,570\n",
      "Trainable params: 122,570\n",
      "Non-trainable params: 0\n",
      "_________________________________________________________________\n"
     ]
    }
   ],
   "source": [
    "model.summary()"
   ]
  },
  {
   "cell_type": "markdown",
   "id": "75664f7a",
   "metadata": {},
   "source": [
    "# Compiling the model"
   ]
  },
  {
   "cell_type": "code",
   "execution_count": 9,
   "id": "9b6540d6",
   "metadata": {},
   "outputs": [],
   "source": [
    "model.compile(optimizer=\"adam\",\n",
    "              loss=tf.keras.losses.SparseCategoricalCrossentropy(from_logits=True),\n",
    "              metrics=[\"acc\"])"
   ]
  },
  {
   "cell_type": "code",
   "execution_count": 10,
   "id": "99e46f8b",
   "metadata": {},
   "outputs": [
    {
     "name": "stderr",
     "output_type": "stream",
     "text": [
      "2022-06-22 17:10:05.298966: W tensorflow/core/framework/cpu_allocator_impl.cc:82] Allocation of 614400000 exceeds 10% of free system memory.\n"
     ]
    },
    {
     "name": "stdout",
     "output_type": "stream",
     "text": [
      "Epoch 1/10\n",
      "   5/1563 [..............................] - ETA: 1:04 - loss: 2.2927 - acc: 0.1063"
     ]
    },
    {
     "name": "stderr",
     "output_type": "stream",
     "text": [
      "2022-06-22 17:10:07.068811: W tensorflow/core/framework/cpu_allocator_impl.cc:82] Allocation of 19663488 exceeds 10% of free system memory.\n",
      "2022-06-22 17:10:07.070713: W tensorflow/core/framework/cpu_allocator_impl.cc:82] Allocation of 19663488 exceeds 10% of free system memory.\n",
      "2022-06-22 17:10:07.086720: W tensorflow/core/framework/cpu_allocator_impl.cc:82] Allocation of 14191200 exceeds 10% of free system memory.\n",
      "2022-06-22 17:10:07.119066: W tensorflow/core/framework/cpu_allocator_impl.cc:82] Allocation of 19663488 exceeds 10% of free system memory.\n"
     ]
    },
    {
     "name": "stdout",
     "output_type": "stream",
     "text": [
      "1563/1563 [==============================] - 91s 58ms/step - loss: 1.5355 - acc: 0.4407 - val_loss: 1.2460 - val_acc: 0.5571\n",
      "Epoch 2/10\n",
      "1563/1563 [==============================] - 97s 62ms/step - loss: 1.1419 - acc: 0.5954 - val_loss: 1.0601 - val_acc: 0.6293\n",
      "Epoch 3/10\n",
      "1563/1563 [==============================] - 122s 78ms/step - loss: 0.9787 - acc: 0.6568 - val_loss: 0.9574 - val_acc: 0.6647\n",
      "Epoch 4/10\n",
      "1563/1563 [==============================] - 112s 72ms/step - loss: 0.8833 - acc: 0.6912 - val_loss: 0.9148 - val_acc: 0.6769\n",
      "Epoch 5/10\n",
      "1563/1563 [==============================] - 93s 59ms/step - loss: 0.8085 - acc: 0.7168 - val_loss: 0.8619 - val_acc: 0.7031\n",
      "Epoch 6/10\n",
      "1563/1563 [==============================] - 88s 57ms/step - loss: 0.7487 - acc: 0.7381 - val_loss: 0.8531 - val_acc: 0.7032\n",
      "Epoch 7/10\n",
      "1563/1563 [==============================] - 93s 60ms/step - loss: 0.6998 - acc: 0.7558 - val_loss: 0.8539 - val_acc: 0.7055\n",
      "Epoch 8/10\n",
      "1563/1563 [==============================] - 96s 61ms/step - loss: 0.6654 - acc: 0.7658 - val_loss: 0.8216 - val_acc: 0.7171\n",
      "Epoch 9/10\n",
      "1563/1563 [==============================] - 99s 64ms/step - loss: 0.6249 - acc: 0.7804 - val_loss: 0.8305 - val_acc: 0.7227\n",
      "Epoch 10/10\n",
      "1563/1563 [==============================] - 84s 54ms/step - loss: 0.5890 - acc: 0.7923 - val_loss: 0.8297 - val_acc: 0.7210\n"
     ]
    },
    {
     "data": {
      "text/plain": [
       "<keras.callbacks.History at 0x7f45624ed8e0>"
      ]
     },
     "execution_count": 10,
     "metadata": {},
     "output_type": "execute_result"
    }
   ],
   "source": [
    "model.fit(train_images,train_lables,epochs=10,validation_data=(test_images,test_lables))"
   ]
  },
  {
   "cell_type": "code",
   "execution_count": 11,
   "id": "2db61a1e",
   "metadata": {},
   "outputs": [
    {
     "name": "stdout",
     "output_type": "stream",
     "text": [
      "313/313 - 4s - loss: 0.8297 - acc: 0.7210 - 4s/epoch - 14ms/step\n",
      "test accuacy  0.7210000157356262\n"
     ]
    }
   ],
   "source": [
    "test_loss,test_acc=model.evaluate(test_images,test_lables,verbose=2)\n",
    "print('test accuacy ',test_acc)"
   ]
  },
  {
   "cell_type": "code",
   "execution_count": null,
   "id": "7c131100",
   "metadata": {},
   "outputs": [],
   "source": []
  }
 ],
 "metadata": {
  "kernelspec": {
   "display_name": "Python 3 (ipykernel)",
   "language": "python",
   "name": "python3"
  },
  "language_info": {
   "codemirror_mode": {
    "name": "ipython",
    "version": 3
   },
   "file_extension": ".py",
   "mimetype": "text/x-python",
   "name": "python",
   "nbconvert_exporter": "python",
   "pygments_lexer": "ipython3",
   "version": "3.8.10"
  }
 },
 "nbformat": 4,
 "nbformat_minor": 5
}
