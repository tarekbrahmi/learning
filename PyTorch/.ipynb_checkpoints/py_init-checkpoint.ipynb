{
 "cells": [
  {
   "cell_type": "code",
   "execution_count": 118,
   "id": "30a1c720",
   "metadata": {},
   "outputs": [],
   "source": [
    "import torch"
   ]
  },
  {
   "cell_type": "markdown",
   "id": "8964ed43",
   "metadata": {},
   "source": [
    "# 1 pytorch intro (tensor)"
   ]
  },
  {
   "cell_type": "markdown",
   "id": "5ddec92f",
   "metadata": {},
   "source": [
    "Everything in pytorch is based on Tensor operations.\n",
    "\n",
    "A tensor can have different dimensions ,so it can be 1d, 2d, or even 3d and higher\n",
    "\n",
    "scalar, vector, matrix, tensor\n"
   ]
  },
  {
   "cell_type": "code",
   "execution_count": 119,
   "id": "d3d8e0a1",
   "metadata": {},
   "outputs": [
    {
     "name": "stdout",
     "output_type": "stream",
     "text": [
      "tensor([5.8952e-37, 0.0000e+00, 5.8037e-37])\n",
      "tensor([[6.9902e-37, 0.0000e+00, 6.1131e-37],\n",
      "        [0.0000e+00, 1.1210e-43, 0.0000e+00]])\n",
      "tensor([[[6.1478e-37, 0.0000e+00, 0.0000e+00],\n",
      "         [0.0000e+00, 1.4013e-45, 0.0000e+00]],\n",
      "\n",
      "        [[0.0000e+00, 0.0000e+00, 1.4013e-45],\n",
      "         [0.0000e+00, 0.0000e+00, 0.0000e+00]]])\n"
     ]
    }
   ],
   "source": [
    "x = torch.empty(3) # vector of 3 elements\n",
    "print(x)\n",
    "x = torch.empty(2,3) # matrix 2 list of 3 elements\n",
    "print(x)\n",
    "x = torch.empty(2,2,3) # 2 list that containe 2 list of 3 elements\n",
    "print(x)"
   ]
  },
  {
   "cell_type": "code",
   "execution_count": 120,
   "id": "ded9ef16",
   "metadata": {},
   "outputs": [
    {
     "name": "stdout",
     "output_type": "stream",
     "text": [
      "tensor([[0.8315, 0.4810, 0.4465],\n",
      "        [0.2115, 0.6844, 0.9171],\n",
      "        [0.5554, 0.9913, 0.3301],\n",
      "        [0.1091, 0.7622, 0.0841],\n",
      "        [0.1916, 0.6878, 0.4280]])\n"
     ]
    },
    {
     "data": {
      "text/plain": [
       "tensor([[1., 1., 1.],\n",
       "        [1., 1., 1.],\n",
       "        [1., 1., 1.],\n",
       "        [1., 1., 1.],\n",
       "        [1., 1., 1.]])"
      ]
     },
     "execution_count": 120,
     "metadata": {},
     "output_type": "execute_result"
    }
   ],
   "source": [
    "x = torch.rand(5, 3) # 5 list of 3 elements(random)\n",
    "print(x)\n",
    "torch.zeros(5,3) # 5 list of 3 elements(0)\n",
    "torch.ones(5,3) # 5 list of 3 elements(1,)\n"
   ]
  },
  {
   "cell_type": "code",
   "execution_count": 121,
   "id": "23fe93c2",
   "metadata": {},
   "outputs": [
    {
     "data": {
      "text/plain": [
       "(torch.Size([5, 3]), torch.float32)"
      ]
     },
     "execution_count": 121,
     "metadata": {},
     "output_type": "execute_result"
    }
   ],
   "source": [
    "x.size(),x.dtype"
   ]
  },
  {
   "cell_type": "code",
   "execution_count": 122,
   "id": "4695a586",
   "metadata": {},
   "outputs": [
    {
     "name": "stdout",
     "output_type": "stream",
     "text": [
      "tensor([[0., 0., 0.],\n",
      "        [0., 0., 0.],\n",
      "        [0., 0., 0.],\n",
      "        [0., 0., 0.],\n",
      "        [0., 0., 0.]], dtype=torch.float16)\n"
     ]
    }
   ],
   "source": [
    "# specify types, float32 default\n",
    "print(torch.zeros(5, 3, dtype=torch.float16))"
   ]
  },
  {
   "cell_type": "code",
   "execution_count": 123,
   "id": "3c3eeb5e",
   "metadata": {},
   "outputs": [
    {
     "data": {
      "text/plain": [
       "tensor([5.5000, 3.0000])"
      ]
     },
     "execution_count": 123,
     "metadata": {},
     "output_type": "execute_result"
    }
   ],
   "source": [
    "torch.tensor([5.5, 3])"
   ]
  },
  {
   "cell_type": "markdown",
   "id": "d28110e3",
   "metadata": {},
   "source": [
    "# requires_grad argument\n",
    "This will tell pytorch that it will need to calculate the gradients for this tensor\n",
    "i.e. this is a variable in your model that you want to optimize"
   ]
  },
  {
   "cell_type": "code",
   "execution_count": 124,
   "id": "10d7f8eb",
   "metadata": {},
   "outputs": [],
   "source": [
    "x = torch.tensor([5.5, 3], requires_grad=True)"
   ]
  },
  {
   "cell_type": "markdown",
   "id": "563ceef0",
   "metadata": {},
   "source": [
    "# operations with pytorch"
   ]
  },
  {
   "cell_type": "code",
   "execution_count": 125,
   "id": "bb2a26bf",
   "metadata": {},
   "outputs": [],
   "source": [
    "x=torch.ones(2,2)\n",
    "y=torch.ones(2,2)\n",
    "#addition each element x[i,j] + y[i,j]\n",
    "z=y.add_(x)\n",
    "#sub each element x[i,j] - y[i,j]\n",
    "z=y.sub(x)\n",
    "#mul each element x[i,j] * y[i,j]\n",
    "z=y.mul(x)\n",
    "#div each element x[i,j] / y[i,j]\n",
    "z=y.div(x)"
   ]
  },
  {
   "cell_type": "code",
   "execution_count": 126,
   "id": "d84b7330",
   "metadata": {},
   "outputs": [
    {
     "data": {
      "text/plain": [
       "tensor([[2., 2.],\n",
       "        [2., 2.]])"
      ]
     },
     "execution_count": 126,
     "metadata": {},
     "output_type": "execute_result"
    }
   ],
   "source": [
    "z"
   ]
  },
  {
   "cell_type": "markdown",
   "id": "7a8b73e3",
   "metadata": {},
   "source": [
    "# Slicing"
   ]
  },
  {
   "cell_type": "code",
   "execution_count": 127,
   "id": "c1a8f194",
   "metadata": {},
   "outputs": [
    {
     "name": "stdout",
     "output_type": "stream",
     "text": [
      "tensor([[0.8755, 0.0850, 0.9109],\n",
      "        [0.4002, 0.9927, 0.1998],\n",
      "        [0.0863, 0.2828, 0.6171],\n",
      "        [0.6389, 0.7793, 0.7772],\n",
      "        [0.8153, 0.1452, 0.4304]])\n",
      "tensor([0.8755, 0.4002, 0.0863, 0.6389, 0.8153])\n",
      "tensor([0.4002, 0.9927, 0.1998])\n",
      "tensor([0.4002, 0.9927])\n",
      "tensor(0.9927)\n"
     ]
    }
   ],
   "source": [
    "x = torch.rand(5,3)\n",
    "print(x)\n",
    "print(x[:, 0]) # all rows, column 0\n",
    "print(x[1, :]) # row 1, all columns\n",
    "print(x[1, :2]) # row 1, the first tow columns\n",
    "print(x[1,1]) # element at 1, 1"
   ]
  },
  {
   "cell_type": "markdown",
   "id": "0b8e0a5e",
   "metadata": {},
   "source": [
    "# Reshape with torch.view()"
   ]
  },
  {
   "cell_type": "code",
   "execution_count": 128,
   "id": "c50b9b20",
   "metadata": {},
   "outputs": [
    {
     "name": "stdout",
     "output_type": "stream",
     "text": [
      "tensor([[-0.1098, -0.3228,  0.2463, -0.1777],\n",
      "        [ 1.2212, -0.3734,  1.3100, -0.4451],\n",
      "        [-1.5143, -1.2796, -0.2747, -0.6193],\n",
      "        [-0.8648, -0.5364, -0.2694, -1.6441]]) torch.Size([4, 4])\n",
      "tensor([-0.1098, -0.3228,  0.2463, -0.1777,  1.2212, -0.3734,  1.3100, -0.4451,\n",
      "        -1.5143, -1.2796, -0.2747, -0.6193, -0.8648, -0.5364, -0.2694, -1.6441]) torch.Size([16])\n",
      "tensor([[-0.1098, -0.3228,  0.2463, -0.1777,  1.2212, -0.3734,  1.3100, -0.4451],\n",
      "        [-1.5143, -1.2796, -0.2747, -0.6193, -0.8648, -0.5364, -0.2694, -1.6441]]) torch.Size([2, 8])\n"
     ]
    }
   ],
   "source": [
    "x = torch.randn(4, 4)\n",
    "y = x.view(16)\n",
    "z = x.view(-1, 8) # if -1 it pytorch will automatically determine the necessary size\n",
    "print(x,x.size())\n",
    "print(y,y.size())\n",
    "print(z,z.size())"
   ]
  },
  {
   "cell_type": "markdown",
   "id": "5fae3f12",
   "metadata": {},
   "source": [
    "# Converting a Torch Tensor to a NumPy array and vice versa"
   ]
  },
  {
   "cell_type": "code",
   "execution_count": 129,
   "id": "9d9e01de",
   "metadata": {},
   "outputs": [
    {
     "name": "stdout",
     "output_type": "stream",
     "text": [
      "[[1. 1.]\n",
      " [1. 1.]]\n",
      "<class 'numpy.ndarray'>\n"
     ]
    }
   ],
   "source": [
    "a=torch.ones(2,2)\n",
    "b = a.numpy()\n",
    "print(b)\n",
    "print(type(b))\n",
    "# If the Tensor is on the CPU (not the GPU),\n",
    "# both objects will share the same memory location, so changing one\n",
    "# will also change the other"
   ]
  },
  {
   "cell_type": "markdown",
   "id": "70744dac",
   "metadata": {},
   "source": [
    "# numpy to torch with .from_numpy(x)"
   ]
  },
  {
   "cell_type": "code",
   "execution_count": 130,
   "id": "5073b743",
   "metadata": {},
   "outputs": [
    {
     "name": "stdout",
     "output_type": "stream",
     "text": [
      "[1. 1. 1. 1. 1.]\n",
      "tensor([1., 1., 1., 1., 1.], dtype=torch.float64)\n"
     ]
    }
   ],
   "source": [
    "import numpy as np\n",
    "a = np.ones(5)\n",
    "b = torch.from_numpy(a)\n",
    "print(a)\n",
    "print(b)"
   ]
  },
  {
   "cell_type": "markdown",
   "id": "e64326a9",
   "metadata": {},
   "source": [
    "# 2 auto grad and using optemizer"
   ]
  },
  {
   "cell_type": "markdown",
   "id": "5407612b",
   "metadata": {},
   "source": [
    "The autograd package provides automatic differentiation for all operations on Tensors"
   ]
  },
  {
   "cell_type": "code",
   "execution_count": 146,
   "id": "fff2b7a2",
   "metadata": {},
   "outputs": [
    {
     "name": "stdout",
     "output_type": "stream",
     "text": [
      "tensor([[0., 0., 0., 0., 0.],\n",
      "        [0., 0., 0., 0., 0.],\n",
      "        [0., 0., 0., 0., 0.]], requires_grad=True)\n",
      "tensor([[2., 2., 2., 2., 2.],\n",
      "        [2., 2., 2., 2., 2.],\n",
      "        [2., 2., 2., 2., 2.]], grad_fn=<AddBackward0>)\n",
      "<AddBackward0 object at 0x7f7a30507610>\n"
     ]
    }
   ],
   "source": [
    "# requires_grad = True -> tracks all operations on the tensor (x). \n",
    "x = torch.zeros(3,5, requires_grad=True)\n",
    "y =  x +2\n",
    "\n",
    "# y was created as a result of an operation, so it has a grad_fn attribute.\n",
    "# grad_fn: references a Function that has created the Tensor\n",
    "print(x) # created by the user -> grad_fn is None\n",
    "print(y)\n",
    "print(y.grad_fn)"
   ]
  },
  {
   "cell_type": "markdown",
   "id": "4733376d",
   "metadata": {},
   "source": [
    "Let's compute the gradients with backpropagation\n",
    "When we finish our computation we can call .backward() and have all the gradients computed automatically.\n",
    "The gradient for this tensor will be accumulated into .grad attribute.\n",
    "It is the partial derivate of the function w.r.t. the tensor"
   ]
  },
  {
   "cell_type": "code",
   "execution_count": 148,
   "id": "2eb75ebb",
   "metadata": {},
   "outputs": [
    {
     "name": "stdout",
     "output_type": "stream",
     "text": [
      "tensor([[4., 4., 4., 4., 4.],\n",
      "        [4., 4., 4., 4., 4.],\n",
      "        [4., 4., 4., 4., 4.]], grad_fn=<MulBackward0>)\n",
      "tensor(4., grad_fn=<MeanBackward0>)\n",
      "tensor([[0.5333, 0.5333, 0.5333, 0.5333, 0.5333],\n",
      "        [0.5333, 0.5333, 0.5333, 0.5333, 0.5333],\n",
      "        [0.5333, 0.5333, 0.5333, 0.5333, 0.5333]])\n"
     ]
    }
   ],
   "source": [
    "z=y*y\n",
    "print(z)\n",
    "z=z.mean()\n",
    "print(z)\n",
    "\n",
    "z.backward()\n",
    "print(x.grad) # dz/dx\n",
    "# Generally speaking, torch.autograd is an engine for computing vector-Jacobian product\n",
    "# It computes partial derivates while applying the chain rule"
   ]
  },
  {
   "cell_type": "markdown",
   "id": "aff6b058",
   "metadata": {},
   "source": []
  },
  {
   "cell_type": "code",
   "execution_count": 154,
   "id": "b008bb8d",
   "metadata": {},
   "outputs": [
    {
     "name": "stdout",
     "output_type": "stream",
     "text": [
      "tensor([8., 8., 8.], grad_fn=<MulBackward0>)\n",
      "torch.Size([3])\n",
      "tensor([8.0000e-01, 8.0000e+00, 8.0000e-04])\n"
     ]
    }
   ],
   "source": [
    "# Model with non-scalar output:\n",
    "x = torch.ones(3, requires_grad=True)\n",
    "y = x * 2\n",
    "for _ in range(2):\n",
    "    y = y * 2\n",
    "print(y)\n",
    "print(y.shape)\n",
    "\n",
    "# If a Tensor is non-scalar (more than 1 elements), we need to specify arguments for backward() \n",
    "# specify a gradient argument that is a tensor of matching shape.\n",
    "\n",
    "v = torch.tensor([0.1, 1.0, 0.0001], dtype=torch.float32)\n",
    "y.backward(v)\n",
    "print(x.grad)"
   ]
  },
  {
   "cell_type": "code",
   "execution_count": 156,
   "id": "e72012b9",
   "metadata": {},
   "outputs": [
    {
     "name": "stdout",
     "output_type": "stream",
     "text": [
      "False\n",
      "None\n",
      "True\n",
      "<SumBackward0 object at 0x7f7a2fd17280>\n"
     ]
    }
   ],
   "source": [
    "# Stop a tensor from tracking history\n",
    "# For example during our training loop when we want to update our weights\n",
    "# then this update operation should not be part of the gradient computation\n",
    "a = torch.randn(2, 2)\n",
    "\n",
    "print(a.requires_grad)\n",
    "b = ((a * 3) / (a - 1))\n",
    "print(b.grad_fn)\n",
    "a.requires_grad_(True)\n",
    "print(a.requires_grad)\n",
    "b = (a * a).sum()\n",
    "print(b.grad_fn)"
   ]
  },
  {
   "cell_type": "code",
   "execution_count": 158,
   "id": "6cd8fdc6",
   "metadata": {},
   "outputs": [
    {
     "name": "stdout",
     "output_type": "stream",
     "text": [
      "True\n",
      "tensor([1., 1., 1.], requires_grad=True)\n",
      "False\n"
     ]
    }
   ],
   "source": [
    "# get a new Tensor with the same content but no gradient computation:\n",
    "# wrap in 'with torch.no_grad():'\n",
    "a = torch.randn(2, 2, requires_grad=True)\n",
    "print(a.requires_grad)\n",
    "with torch.no_grad():\n",
    "    print(x)\n",
    "    print((x ** 2).requires_grad)"
   ]
  },
  {
   "cell_type": "markdown",
   "id": "274d5bd7",
   "metadata": {},
   "source": [
    "# backward() accumulates the gradient for this tensor into .grad attribute.\n",
    "# !!! We need to be careful during optimization !!!\n",
    "# Use .zero_() to empty the gradients before a new optimization step!"
   ]
  },
  {
   "cell_type": "code",
   "execution_count": 161,
   "id": "7605f850",
   "metadata": {},
   "outputs": [
    {
     "name": "stdout",
     "output_type": "stream",
     "text": [
      "tensor([3., 3., 3., 3.])\n",
      "tensor([3., 3., 3., 3.])\n",
      "tensor([3., 3., 3., 3.])\n",
      "tensor([3., 3., 3., 3.])\n",
      "tensor([3., 3., 3., 3.])\n",
      "tensor([3., 3., 3., 3.])\n",
      "tensor([0.1000, 0.1000, 0.1000, 0.1000], requires_grad=True)\n",
      "tensor(4.8000, grad_fn=<SumBackward0>)\n"
     ]
    }
   ],
   "source": [
    "weights = torch.ones(4, requires_grad=True)\n",
    "\n",
    "for epoch in range(3):\n",
    "    # just a dummy example\n",
    "    model_output = (weights*3).sum()\n",
    "    model_output.backward()\n",
    "    \n",
    "    print(weights.grad)\n",
    "\n",
    "    # optimize model, i.e. adjust weights...\n",
    "    with torch.no_grad():\n",
    "        print(\"**\",weights.grad)\n",
    "        weights -= 0.1 * weights.grad\n",
    "\n",
    "    # this is important! It affects the final weights & output\n",
    "    weights.grad.zero_()\n",
    "\n",
    "print(weights)\n",
    "print(model_output)"
   ]
  },
  {
   "cell_type": "code",
   "execution_count": null,
   "id": "3ba49043",
   "metadata": {},
   "outputs": [],
   "source": []
  }
 ],
 "metadata": {
  "kernelspec": {
   "display_name": "Python 3 (ipykernel)",
   "language": "python",
   "name": "python3"
  },
  "language_info": {
   "codemirror_mode": {
    "name": "ipython",
    "version": 3
   },
   "file_extension": ".py",
   "mimetype": "text/x-python",
   "name": "python",
   "nbconvert_exporter": "python",
   "pygments_lexer": "ipython3",
   "version": "3.8.10"
  }
 },
 "nbformat": 4,
 "nbformat_minor": 5
}
